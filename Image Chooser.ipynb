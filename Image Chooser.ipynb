{
 "cells": [
  {
   "cell_type": "code",
   "execution_count": 1,
   "metadata": {
    "id": "VqpA-p63W4OC"
   },
   "outputs": [],
   "source": [
    "import PIL\n",
    "from PIL import Image\n",
    "from numpy import asarray\n",
    "import nrrd\n",
    "\n",
    "import numpy as np\n",
    "import pandas as pd\n",
    "import os\n",
    "from radiomics import featureextractor\n",
    "import radiomics\n",
    "import csv\n",
    "\n",
    "from sklearn.model_selection import train_test_split, StratifiedKFold, cross_val_score, KFold, cross_validate\n",
    "from sklearn.linear_model import LogisticRegression\n",
    "from sklearn import metrics\n",
    "from sklearn.preprocessing import MinMaxScaler, StandardScaler\n",
    "from sklearn.feature_extraction import image\n",
    "from skimage import *\n",
    "\n",
    "import matplotlib.pyplot as plt\n",
    "import statistics\n",
    "import collections\n",
    "import pickle"
   ]
  },
  {
   "cell_type": "markdown",
   "metadata": {
    "id": "O0-AX-COW46m"
   },
   "source": [
    "**Image Chooser**"
   ]
  },
  {
   "cell_type": "code",
   "execution_count": 2,
   "metadata": {
    "id": "soOn0vsAXCps"
   },
   "outputs": [],
   "source": [
    "#normalization function\n",
    "def mean_norm(df):\n",
    "    return df.apply(lambda x: (x-x.mean())/ x.std(), axis=0)"
   ]
  },
  {
   "cell_type": "code",
   "execution_count": 3,
   "metadata": {
    "id": "f35DclcCXJQK"
   },
   "outputs": [],
   "source": [
    "def radiomics_features(im_PATH, mask_dir):\n",
    "    '''\n",
    "    \n",
    "        ------------------------------------------\n",
    "        Parameters:\n",
    "\n",
    "        im_PATH: directory to all the images\n",
    "        mask_dir: directory to all the pre-made masks\n",
    "\n",
    "        ------------------------------------------\n",
    "        Returns:\n",
    "\n",
    "        feature_matrix: feature of all the masks of an image\n",
    "\n",
    "        ------------------------------------------\n",
    "        \n",
    "    '''\n",
    " \n",
    "    os.chdir(im_PATH) #change to image directory\n",
    "    list_of_photos = os.listdir(im_PATH) #store all items in directory in a list\n",
    "    feature_matrix_masks = pd.DataFrame()\n",
    "    for c,i in enumerate(list_of_photos): \n",
    "        if (\"count\" in i) or (i == '.DS_Store'): #do not look at these \n",
    "            continue\n",
    "\n",
    "        photo_dir = im_PATH + i #full image file path\n",
    "        radiomics.setVerbosity(level=40)\n",
    "        \n",
    "         #initialize extractor\n",
    "        feature_extractor = featureextractor.RadiomicsFeatureExtractor(geometryTolerance = True)\n",
    "        list_of_masks = os.listdir(mask_dir)\n",
    "        \n",
    "        for j in list_of_masks:\n",
    "            #extract features and store into result\n",
    "            result = feature_extractor.execute(photo_dir, mask_dir + j)\n",
    "            \n",
    "            #put all the extracted features in a dataframe\n",
    "            feature_row = pd.DataFrame.from_dict(result, orient = 'index')\n",
    "            feature_row = feature_row.transpose()\n",
    "            \n",
    "            #subset useful columns\n",
    "            feature_row = feature_row.iloc[:, 24:]\n",
    "            \n",
    "            #add identifiers\n",
    "            feature_row.insert(0, 'name', [i.split(\".jpg\")[0]])\n",
    "            feature_row.insert(1, 'image', [j.split(\".nrrd\")[0]])\n",
    "            \n",
    "            #append row to feature_matrix\n",
    "            feature_matrix_masks = feature_matrix_masks.append(feature_row, ignore_index = True)\n",
    "\n",
    "    return feature_matrix_masks\n",
    "\n"
   ]
  },
  {
   "cell_type": "code",
   "execution_count": 4,
   "metadata": {
    "id": "CP1uoNpRXLBr"
   },
   "outputs": [],
   "source": [
    "def logreg_classifier(im_PATH, mask_PATH, im_type, cwd): \n",
    "    '''\n",
    "    ------------------------------------------\n",
    "    Parameters:\n",
    "    \n",
    "    im_PATH: directory to all the images\n",
    "    mask_PATH: directory to all pre-made masks\n",
    "    im_type ('nerve' or 'cell'): tells whether we are training to identify a good image for nerve \n",
    "             segementation or cell density calculation\n",
    "    cwd: current working directory\n",
    "        \n",
    "    ------------------------------------------\n",
    "    Returns:\n",
    "    \n",
    "    logreg: logistic regression classifier model \n",
    "\n",
    "    ------------------------------------------\n",
    "    \n",
    "    ''' \n",
    "    #import labels/targets\n",
    "    if im_type == 'nerve':\n",
    "        label_PATH = cwd + '/Nerve Segmentation w Annotations/nerve_training_labels.csv'\n",
    "    else:\n",
    "        label_PATH = cwd + '/Cell Density Data w Annotations/cell_training_labels.csv'\n",
    "\n",
    "    #extract features\n",
    "    feature_matrix = radiomics_features(im_PATH, mask_PATH)\n",
    "    \n",
    "    #concatenate name and image #\n",
    "    feature_matrix['name'] = feature_matrix['name'] + '-' + feature_matrix['image']\n",
    "    feature_matrix.drop(['image'], axis = 1, inplace = True)\n",
    "    \n",
    "    #read in labels\n",
    "    y = pd.read_csv(label_PATH)\n",
    "    y = y.astype({'image':'string'})\n",
    "    y['name'] = y['name'] + '-' + y['image']\n",
    "    y.drop(['image'], axis = 1, inplace = True)\n",
    "\n",
    "    #adjust y's rows based on the names of feature_matrix\n",
    "    y = y.set_index('name')\n",
    "    y = y.reindex(index = feature_matrix['name'])\n",
    "    y = y.reset_index()\n",
    "    \n",
    "    #store names\n",
    "    names = feature_matrix['name']\n",
    "\n",
    "    #normalize\n",
    "    X = mean_norm(feature_matrix.drop(['name'], axis=1))\n",
    "    X['name'] = names\n",
    "\n",
    "    #initialize logistic regression model\n",
    "    logreg = LogisticRegression(max_iter = 1000, penalty = 'l1', solver = 'liblinear')\n",
    "    \n",
    "    #prep training data\n",
    "    X_train = X.drop(['name'], axis = 1)\n",
    "    y_train = y['label']\n",
    "    \n",
    "    #train\n",
    "    logreg.fit(X_train, y_train)\n",
    "\n",
    "    return logreg"
   ]
  },
  {
   "cell_type": "code",
   "execution_count": 5,
   "metadata": {
    "id": "t0orLbuTXMtZ"
   },
   "outputs": [],
   "source": [
    "def photo_chooser(logreg, im_dir, mask_PATH):\n",
    "    '''\n",
    "    ------------------------------------------\n",
    "    Parameters:\n",
    "    \n",
    "    logreg: logistic regression model\n",
    "    im_dir: directory to evaluation images\n",
    "    mask_PATH: directory to all the masks\n",
    "        \n",
    "    ------------------------------------------\n",
    "    Returns:\n",
    "    \n",
    "    PATHS: list of paths to the chosen images\n",
    "        \n",
    "    ------------------------------------------\n",
    "    \n",
    "    ''' \n",
    "    #extract features\n",
    "    feature_matrix = radiomics_features(im_dir, mask_PATH)\n",
    "    \n",
    "    #get predicted probabilities of whether it is a 0 or 1 on normalized testing feature matrix\n",
    "    y_pred_prob = logreg.predict_proba(mean_norm(feature_matrix.drop(['name', 'image'], axis=1)))\n",
    "\n",
    "    #get all the predicted probabilities of it being a 1\n",
    "    one_prob = np.array([prob[1] for prob in y_pred_prob])\n",
    "    \n",
    "    #extract indices of the elements in the 75th percentile\n",
    "    percentile_75 = np.where(np.array(one_prob >= np.percentile(one_prob,75)) == True)[0]\n",
    "    \n",
    "    PATHS = []\n",
    "    #get paths of all images in 75th percentile\n",
    "    for i in percentile_75:\n",
    "        path = im_dir + np.array(feature_matrix['name'])[i]+'.jpg'\n",
    "        PATHS.append(path)\n",
    "    \n",
    "    counts = collections.Counter(PATHS)\n",
    "    \n",
    "    return [x[0] for x in counts.most_common(3)]"
   ]
  },
  {
   "cell_type": "code",
   "execution_count": 6,
   "metadata": {},
   "outputs": [],
   "source": [
    "def validation(logreg, im_dir_ls, mask_PATH):\n",
    "    '''\n",
    "    ------------------------------------------\n",
    "    Parameters:\n",
    "    \n",
    "    logreg: logistic regression model\n",
    "    im_dir_ls: list of image directores\n",
    "    mask_PATH: directory to all the masks\n",
    "        \n",
    "    ------------------------------------------\n",
    "    Returns:\n",
    "    \n",
    "        NA\n",
    "    ------------------------------------------\n",
    "    \n",
    "    '''\n",
    "    #initialize list of errors\n",
    "    errors = []\n",
    "    #loop through all the image directories\n",
    "    for im_dir in im_dir_ls:\n",
    "\n",
    "        good_im = []\n",
    "        #loop thorugh all the images in the directory\n",
    "        for im in os.listdir(im_dir):\n",
    "            #collect all the good images from each image directory\n",
    "            if 'count' in im:\n",
    "                good_im.append(int(im.split('.')[0]))\n",
    "        \n",
    "        #selected good images by models\n",
    "        selected = photo_chooser(logreg, im_dir, mask_PATH)\n",
    "        \n",
    "        #get image name    \n",
    "        im_selected = [int((i[-7:]).split('.')[0]) for i in selected]\n",
    "        \n",
    "        #find minimum error between selected image and closest chosen image by clinician\n",
    "        for i in im_selected:\n",
    "            errors.append(min([(abs(i-k)-1) for k in good_im]))\n",
    "    \n",
    "    #plot MAE figures\n",
    "    fig = plt.figure(figsize = (10,7))\n",
    "    plt.boxplot(errors)\n",
    "    plt.title('MAE of distance from clinically chosen images')\n",
    "    plt.show()\n",
    "    \n",
    "    print('MAE: ', statistics.mean(errors))"
   ]
  },
  {
   "cell_type": "markdown",
   "metadata": {},
   "source": [
    "### Basal Cell Density Image Model"
   ]
  },
  {
   "cell_type": "code",
   "execution_count": 11,
   "metadata": {},
   "outputs": [],
   "source": [
    "os.chdir(\"/Users/Emily/Documents/BioE 223A\")\n",
    "cwd = os.getcwd()"
   ]
  },
  {
   "cell_type": "code",
   "execution_count": 8,
   "metadata": {},
   "outputs": [],
   "source": [
    "# cell_logreg = logreg_classifier(cwd + \"/Cell Density/\", cwd + \"/Masks/\", \"cell\", cwd)"
   ]
  },
  {
   "cell_type": "code",
   "execution_count": 13,
   "metadata": {},
   "outputs": [],
   "source": [
    "cell_logreg = pickle.load(open('cell_logreg.sav', 'rb'))"
   ]
  },
  {
   "cell_type": "code",
   "execution_count": 24,
   "metadata": {},
   "outputs": [],
   "source": [
    "photo_chooser(cell_logreg, cwd + '/Data/Central BCD data/Moderate/50-od-9/', cwd + \"/Masks/\")\n",
    "dir_ls = [cwd + '/Data/Central BCD data/Moderate/4-od-18/', \n",
    "          cwd +'/Data/Central BCD data/Mild/12-od-0/', \n",
    "          cwd + '/Data/Central BCD data/Control/N1-od-1/',\n",
    "          cwd + '/Data/Central BCD data/Severe/14-od-6/', \n",
    "          cwd + '/Data/Central BCD data/Severe/39-od-13/']\n",
    "print('CELL DENSITY MODEL')\n",
    "validation(cell_logreg, dir_ls, cwd + \"/Masks/\")"
   ]
  },
  {
   "cell_type": "markdown",
   "metadata": {},
   "source": [
    "### Nerve Density Image Model"
   ]
  },
  {
   "cell_type": "code",
   "execution_count": 18,
   "metadata": {},
   "outputs": [],
   "source": [
    "os.chdir(\"/Users/Emily/Documents/BioE 223A\")\n",
    "cwd = os.getcwd()"
   ]
  },
  {
   "cell_type": "code",
   "execution_count": 19,
   "metadata": {},
   "outputs": [],
   "source": [
    "nerve_logreg = pickle.load(open('nerve_logreg.sav', 'rb'))"
   ]
  },
  {
   "cell_type": "code",
   "execution_count": null,
   "metadata": {},
   "outputs": [],
   "source": [
    "# nerve_logreg = logreg_classifier(cwd + \"/Nerve Segmentation/\", cwd + \"/Masks/\", \"nerve\", cwd)"
   ]
  },
  {
   "cell_type": "code",
   "execution_count": 23,
   "metadata": {},
   "outputs": [],
   "source": [
    "photo_chooser(nerve_logreg, cwd + '/Data/Basal nerve density data/Moderate/38-os-0/', cwd + \"/Masks/\")\n",
    "\n",
    "dir_ls = [cwd + '/Data/Basal nerve density data/Control/N1-od-0/', \n",
    "          cwd + '/Data/Basal nerve density data/Mild/12-od-4/', \n",
    "          cwd + '/Data/Basal nerve density data/Moderate/10-os/', \n",
    "          cwd + '/Data/Basal nerve density data/Moderate/70-os-52/',\n",
    "          cwd + '/Data/Basal nerve density data/Mild/12-od-4/']\n",
    "print('\\nNERVE SEGMENTATION MODEL')\n",
    "validation(nerve_logreg, dir_ls, cwd + \"/Masks/\")"
   ]
  }
 ],
 "metadata": {
  "colab": {
   "collapsed_sections": [],
   "name": "Beta",
   "provenance": []
  },
  "kernelspec": {
   "display_name": "Python 3 (ipykernel)",
   "language": "python",
   "name": "python3"
  },
  "language_info": {
   "codemirror_mode": {
    "name": "ipython",
    "version": 3
   },
   "file_extension": ".py",
   "mimetype": "text/x-python",
   "name": "python",
   "nbconvert_exporter": "python",
   "pygments_lexer": "ipython3",
   "version": "3.9.0"
  }
 },
 "nbformat": 4,
 "nbformat_minor": 4
}
